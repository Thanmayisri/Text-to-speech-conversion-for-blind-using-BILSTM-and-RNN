pip install gTTS
from gtts import gTTS
from gtts import gTTS

# Text to be converted to speech
text = "Hello, how are you today?"

# Create a gTTS object
tts = gTTS(text)

# Save the speech to an audio file
tts.save("output.mp3")

pip install pytesseract

import pytesseract

pip install playsound

pip install pyttsx3

pip install pytesseract

pip install opencv-python


import cv2
from PIL import Image
from pytesseract import pytesseract
import gtts
from playsound import playsound
import pyttsx3
camera = cv2.VideoCapture(0, cv2.CAP_DSHOW)
while True:
 _, image = camera.read()
 cv2.imshow('image', image)
 if cv2.waitKey(1) & 0xFF == ord('s'):
  cv2.imwrite('test8.jpg', image)
Break
camera.release()
cv2.destroyAllWindows()
def tesseract():
 path_to_tesseract = r"C:\Program Files\Tesseract-OCR\tesseract.exe"
 image_path = "test8.jpg"
 pytesseract.tesseract_cmd = path_to_tesseract
 text = pytesseract.image_to_string(Image.open(image_path))
 print(text)
 t1 = gtts.gTTS(text)
 t1.save("welcome.mp3")
 playsound("welcome.mp3")
tesseract()
